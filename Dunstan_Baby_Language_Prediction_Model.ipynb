{
  "nbformat": 4,
  "nbformat_minor": 0,
  "metadata": {
    "colab": {
      "provenance": [],
      "machine_shape": "hm",
      "gpuType": "V100"
    },
    "kernelspec": {
      "name": "python3",
      "display_name": "Python 3"
    },
    "language_info": {
      "name": "python"
    },
    "accelerator": "GPU"
  },
  "cells": [
    {
      "cell_type": "markdown",
      "source": [
        "#Data Preprocessing"
      ],
      "metadata": {
        "id": "AwIplZOEjwJv"
      }
    },
    {
      "cell_type": "markdown",
      "source": [
        "## Data importation"
      ],
      "metadata": {
        "id": "-_ELsa3yNnau"
      }
    },
    {
      "cell_type": "code",
      "source": [
        "from google.colab import drive\n",
        "drive.mount('/content/drive')"
      ],
      "metadata": {
        "colab": {
          "base_uri": "https://localhost:8080/"
        },
        "id": "WOqYKNiv0JJe",
        "outputId": "31a060f8-8bb1-4efe-b818-ce287611362f"
      },
      "execution_count": null,
      "outputs": [
        {
          "output_type": "stream",
          "name": "stdout",
          "text": [
            "Drive already mounted at /content/drive; to attempt to forcibly remount, call drive.mount(\"/content/drive\", force_remount=True).\n"
          ]
        }
      ]
    },
    {
      "cell_type": "code",
      "source": [
        "import os\n",
        "import librosa\n",
        "import numpy as np\n",
        "\n",
        "from collections import Counter"
      ],
      "metadata": {
        "id": "8C9XXMMPSj-x"
      },
      "execution_count": null,
      "outputs": []
    },
    {
      "cell_type": "code",
      "source": [
        "# Directory path to WAV files\n",
        "directory_path = '/content/drive/MyDrive/CS345/TakeHome/wav_data'"
      ],
      "metadata": {
        "id": "tAgkDbrK9sdM"
      },
      "execution_count": null,
      "outputs": []
    },
    {
      "cell_type": "code",
      "source": [
        "# Function to preprocess and extract spectrogram from wav files\n",
        "def preprocess(file_path):\n",
        "    # Load the audio file as a mono waveform\n",
        "    wav, sample_rate = librosa.load(file_path, sr=22050, mono=True)\n",
        "\n",
        "    # Normalize the audio\n",
        "    wav = librosa.util.normalize(wav)\n",
        "\n",
        "    # Data augmentation: Add noise\n",
        "    noise_amp = 0.005 * np.random.uniform() * np.amax(wav)\n",
        "    wav_noise = wav + noise_amp * np.random.normal(size=wav.shape)\n",
        "\n",
        "    # Ensure the audio is at least 3 seconds (48,000 samples)\n",
        "    if len(wav) < 48000:\n",
        "        wav = np.pad(wav, (0, 48000 - len(wav)), mode='constant')\n",
        "    else:\n",
        "        wav = wav[:48000]\n",
        "\n",
        "    # Compute the Short-Time Fourier Transform (STFT)\n",
        "    spectrogram = librosa.stft(wav, n_fft=4096, hop_length=512)\n",
        "    spectrogram = np.abs(spectrogram)\n",
        "\n",
        "    # Expand dimensions to match the expected input shape for TensorFlow models\n",
        "    spectrogram = np.expand_dims(spectrogram, axis=2)\n",
        "\n",
        "    return spectrogram\n",
        "\n",
        "# Function to determine labels based on file name\n",
        "def get_label_from_filename(file_name):\n",
        "    if file_name.startswith('ea'):\n",
        "        return 'Eairh'\n",
        "    elif file_name.startswith('e'):\n",
        "        return 'Eh'\n",
        "    elif file_name.startswith('h'):\n",
        "        return 'Heh'\n",
        "    elif file_name.startswith('n'):\n",
        "        return 'Neh'\n",
        "    elif file_name.startswith('o'):\n",
        "        return 'Owh'\n",
        "    else:\n",
        "        return 'Unknown'  # Handle case where none of the conditions match"
      ],
      "metadata": {
        "id": "3YVsIX9rRTl0"
      },
      "execution_count": null,
      "outputs": []
    },
    {
      "cell_type": "code",
      "source": [
        "# Lists to hold features and labels\n",
        "features = []\n",
        "labels = []\n",
        "\n",
        "# Iterate through each sound file, extract the features, and assign labels\n",
        "for file_name in os.listdir(directory_path):\n",
        "    if file_name.endswith('.wav'):\n",
        "        file_path = os.path.join(directory_path, file_name)\n",
        "        label = get_label_from_filename(file_name)\n",
        "\n",
        "        # Extract spectrogram and append feature and label\n",
        "        spectrogram = preprocess(file_path)\n",
        "        features.append(spectrogram)\n",
        "        labels.append(label)\n",
        "\n",
        "# Convert lists to NumPy arrays\n",
        "features_array = np.array(features)\n",
        "labels_array = np.array(labels)\n",
        "\n",
        "# Print shapes to verify\n",
        "print(f\"Features shape: {features_array.shape}\")\n",
        "print(f\"labels shape: {labels_array.shape}\")"
      ],
      "metadata": {
        "id": "9exmasx20Vjv",
        "colab": {
          "base_uri": "https://localhost:8080/"
        },
        "outputId": "ced05a48-df04-4cb0-b75b-470efdd6fc3a"
      },
      "execution_count": null,
      "outputs": [
        {
          "output_type": "stream",
          "name": "stdout",
          "text": [
            "Features shape: (251, 2049, 94, 1)\n",
            "labels shape: (251,)\n"
          ]
        }
      ]
    },
    {
      "cell_type": "markdown",
      "source": [
        "## Data Visualization"
      ],
      "metadata": {
        "id": "RUC5MIEdN2av"
      }
    },
    {
      "cell_type": "code",
      "source": [
        "import matplotlib.pyplot as plt"
      ],
      "metadata": {
        "id": "R4zvFrYtOF12"
      },
      "execution_count": null,
      "outputs": []
    },
    {
      "cell_type": "code",
      "source": [
        "print(\"Features shape:\", features_array.shape)\n",
        "print(\"Labels shape:\", labels_array.shape)"
      ],
      "metadata": {
        "colab": {
          "base_uri": "https://localhost:8080/"
        },
        "id": "Jh418NG_km9L",
        "outputId": "4228869a-8a3e-43e5-bbd2-fb6d46027a33"
      },
      "execution_count": null,
      "outputs": [
        {
          "output_type": "stream",
          "name": "stdout",
          "text": [
            "Features shape: (251, 2049, 94, 1)\n",
            "Labels shape: (251,)\n"
          ]
        }
      ]
    },
    {
      "cell_type": "code",
      "source": [
        "# Display the count of each label\n",
        "label_counts = Counter(labels_array)\n",
        "print(\"Label distribution:\", label_counts)"
      ],
      "metadata": {
        "colab": {
          "base_uri": "https://localhost:8080/"
        },
        "id": "VA3dFapa8P1J",
        "outputId": "064be9e8-82e6-45a8-e6ab-d57ae0654c38"
      },
      "execution_count": null,
      "outputs": [
        {
          "output_type": "stream",
          "name": "stdout",
          "text": [
            "Label distribution: Counter({'Owh': 71, 'Neh': 69, 'Heh': 47, 'Eairh': 38, 'Eh': 26})\n"
          ]
        }
      ]
    },
    {
      "cell_type": "code",
      "source": [
        "unique_values_features_array = np.unique(features_array[:, 0, 0])  # Unique values in the first feature across all samples\n",
        "print(\"Unique values in the first features_array across all samples:\", unique_values_features_array)"
      ],
      "metadata": {
        "colab": {
          "base_uri": "https://localhost:8080/"
        },
        "id": "1-MEkdVrUHqj",
        "outputId": "e949daf3-c5b3-4823-9c25-6e06285f4f64"
      },
      "execution_count": null,
      "outputs": [
        {
          "output_type": "stream",
          "name": "stdout",
          "text": [
            "Unique values in the first features_array across all samples: [1.39823125e-03 2.63886759e-03 2.75641563e-03 4.18956624e-03\n",
            " 4.76050191e-03 5.32956794e-03 6.91875629e-03 7.61250220e-03\n",
            " 9.02148429e-03 1.02759041e-02 1.06317736e-02 1.16033116e-02\n",
            " 1.25591774e-02 1.25794420e-02 1.28723867e-02 1.47174355e-02\n",
            " 1.47753954e-02 1.65798441e-02 1.79876536e-02 1.83475483e-02\n",
            " 1.87525898e-02 2.00598910e-02 2.04993058e-02 2.18739863e-02\n",
            " 2.24993341e-02 2.28886195e-02 2.36161333e-02 2.40000729e-02\n",
            " 2.47117113e-02 2.52549443e-02 2.58884039e-02 2.66256351e-02\n",
            " 2.84516625e-02 2.91288719e-02 2.96112709e-02 3.03306896e-02\n",
            " 3.07282060e-02 3.16736996e-02 3.23060453e-02 3.34301405e-02\n",
            " 3.44788395e-02 3.51043679e-02 3.60499769e-02 3.89972478e-02\n",
            " 3.96657549e-02 4.24718335e-02 4.34790254e-02 4.65562344e-02\n",
            " 4.71754707e-02 4.83543910e-02 5.01131900e-02 5.18172346e-02\n",
            " 5.27254641e-02 5.41503318e-02 5.43265976e-02 5.43444455e-02\n",
            " 5.46122491e-02 5.49965389e-02 5.50898276e-02 5.66787533e-02\n",
            " 5.67558296e-02 5.68089224e-02 5.79970442e-02 5.87023608e-02\n",
            " 5.92867509e-02 6.03761598e-02 6.19166903e-02 6.26576692e-02\n",
            " 6.36518225e-02 6.52436167e-02 6.73260465e-02 6.86872825e-02\n",
            " 6.89185411e-02 6.91013038e-02 6.92248940e-02 6.98804557e-02\n",
            " 7.06606731e-02 7.14929327e-02 7.35154599e-02 7.49143288e-02\n",
            " 7.57667199e-02 7.71091953e-02 7.71304145e-02 7.93293938e-02\n",
            " 8.02533925e-02 8.12570676e-02 8.24916139e-02 8.29922482e-02\n",
            " 8.48246068e-02 8.53982568e-02 8.67658854e-02 8.74525756e-02\n",
            " 8.76725838e-02 8.99083018e-02 9.03629512e-02 9.30489898e-02\n",
            " 9.35040787e-02 9.40275714e-02 9.40317214e-02 9.44547355e-02\n",
            " 9.58880782e-02 9.73145515e-02 9.86693501e-02 9.87047032e-02\n",
            " 1.00067511e-01 1.00324035e-01 1.00991100e-01 1.04612343e-01\n",
            " 1.05543099e-01 1.06644683e-01 1.07128672e-01 1.07220910e-01\n",
            " 1.07459024e-01 1.07972018e-01 1.08438402e-01 1.08817227e-01\n",
            " 1.09142050e-01 1.13535605e-01 1.13822252e-01 1.15521841e-01\n",
            " 1.16861477e-01 1.19970076e-01 1.26199424e-01 1.26994237e-01\n",
            " 1.28710777e-01 1.31378740e-01 1.32511333e-01 1.32714719e-01\n",
            " 1.35953903e-01 1.37521505e-01 1.38635203e-01 1.43813655e-01\n",
            " 1.44075319e-01 1.44266993e-01 1.51330948e-01 1.52112365e-01\n",
            " 1.53403476e-01 1.57338277e-01 1.58272892e-01 1.60804868e-01\n",
            " 1.61743224e-01 1.65345922e-01 1.65531442e-01 1.66910335e-01\n",
            " 1.67764604e-01 1.68653637e-01 1.71396971e-01 1.71887085e-01\n",
            " 1.72230542e-01 1.72812253e-01 1.75382063e-01 1.78475395e-01\n",
            " 1.79463774e-01 1.91481560e-01 1.92467093e-01 1.95437744e-01\n",
            " 1.95989236e-01 1.98916137e-01 2.01321080e-01 2.04547212e-01\n",
            " 2.11886704e-01 2.17944846e-01 2.28990674e-01 2.29091495e-01\n",
            " 2.30528563e-01 2.39144266e-01 2.41229370e-01 2.49371603e-01\n",
            " 2.51110554e-01 2.53647506e-01 2.57374346e-01 2.58294761e-01\n",
            " 2.60444105e-01 2.62266785e-01 2.67264068e-01 2.88815171e-01\n",
            " 2.91771919e-01 2.94725984e-01 2.99992263e-01 3.03204596e-01\n",
            " 3.04638773e-01 3.07037324e-01 3.22705925e-01 3.32604676e-01\n",
            " 3.32636774e-01 3.41064066e-01 3.57220709e-01 3.58389229e-01\n",
            " 3.61098766e-01 3.70017797e-01 3.70269656e-01 3.87143075e-01\n",
            " 4.21358734e-01 4.50076282e-01 4.50230747e-01 4.51845884e-01\n",
            " 4.62545574e-01 4.69377637e-01 5.00620842e-01 5.32172620e-01\n",
            " 5.46670318e-01 5.68981290e-01 5.91720581e-01 6.13875806e-01\n",
            " 6.57136679e-01 6.67035401e-01 7.37332761e-01 7.82120883e-01\n",
            " 7.83252776e-01 7.91590750e-01 8.25336695e-01 8.45331013e-01\n",
            " 1.08380949e+00 1.19668818e+00 1.19916296e+00 1.34761083e+00\n",
            " 1.35974085e+00 1.41131103e+00 1.45323884e+00 1.69416451e+00\n",
            " 1.76164758e+00 1.78645837e+00 1.93053329e+00 2.72328830e+00\n",
            " 2.89349055e+00 3.11324477e+00 3.38067651e+00 3.95405269e+00\n",
            " 4.96120310e+00 5.23856449e+00 5.42219305e+00 6.99900389e+00\n",
            " 7.35966396e+00 8.64765835e+00 9.03440094e+00 9.08589172e+00\n",
            " 9.52886581e+00 9.89616680e+00 1.00542784e+01 1.20968819e+01\n",
            " 1.29298239e+01 1.31184359e+01 1.32297297e+01 1.34829311e+01\n",
            " 1.39587059e+01 1.50297422e+01 1.52576790e+01 1.52611923e+01\n",
            " 1.89775276e+01 1.99133911e+01 3.16777439e+01]\n"
          ]
        }
      ]
    },
    {
      "cell_type": "code",
      "source": [
        "# Transpose the first spectrogram to (height, width) for visualization\n",
        "spectrogram = features_array[0, :, :, 0].T\n",
        "\n",
        "plt.figure(figsize=(10, 4))\n",
        "plt.imshow(spectrogram, aspect='auto', origin='lower', cmap='viridis')\n",
        "plt.title('Spectrogram')\n",
        "plt.colorbar(format='%+2.0f dB')\n",
        "plt.show()"
      ],
      "metadata": {
        "colab": {
          "base_uri": "https://localhost:8080/",
          "height": 391
        },
        "id": "F0GwXn_WjtkF",
        "outputId": "ef9e098d-021c-44fd-c97a-c8f7f4d96682"
      },
      "execution_count": null,
      "outputs": [
        {
          "output_type": "display_data",
          "data": {
            "text/plain": [
              "<Figure size 1000x400 with 2 Axes>"
            ],
            "image/png": "[encoded data removed]"
          },
          "metadata": {}
        }
      ]
    },
    {
      "cell_type": "code",
      "source": [
        "labels_array"
      ],
      "metadata": {
        "colab": {
          "base_uri": "https://localhost:8080/"
        },
        "id": "2ocpKcX3ZbAN",
        "outputId": "04eeab1d-a9b2-46cc-e62c-dd1a3d92f957"
      },
      "execution_count": null,
      "outputs": [
        {
          "output_type": "execute_result",
          "data": {
            "text/plain": [
              "array(['Eh', 'Eh', 'Eh', 'Eh', 'Eh', 'Eh', 'Eh', 'Eh', 'Eh', 'Eh', 'Eh',\n",
              "       'Eh', 'Eh', 'Eh', 'Eh', 'Eh', 'Eh', 'Eh', 'Eh', 'Eh', 'Eh', 'Eh',\n",
              "       'Eh', 'Eh', 'Eh', 'Eairh', 'Eairh', 'Eairh', 'Eairh', 'Eairh',\n",
              "       'Eairh', 'Eairh', 'Eairh', 'Eairh', 'Eairh', 'Eairh', 'Eairh',\n",
              "       'Eairh', 'Eairh', 'Eairh', 'Eairh', 'Eairh', 'Eairh', 'Eairh',\n",
              "       'Eairh', 'Eairh', 'Eairh', 'Eairh', 'Eairh', 'Eairh', 'Eairh',\n",
              "       'Eairh', 'Eairh', 'Eairh', 'Eairh', 'Eairh', 'Eh', 'Eairh',\n",
              "       'Eairh', 'Eairh', 'Eairh', 'Eairh', 'Eairh', 'Heh', 'Heh', 'Heh',\n",
              "       'Heh', 'Heh', 'Heh', 'Heh', 'Heh', 'Heh', 'Heh', 'Heh', 'Heh',\n",
              "       'Heh', 'Heh', 'Heh', 'Heh', 'Heh', 'Heh', 'Heh', 'Heh', 'Heh',\n",
              "       'Heh', 'Heh', 'Heh', 'Heh', 'Heh', 'Heh', 'Heh', 'Heh', 'Heh',\n",
              "       'Heh', 'Heh', 'Heh', 'Heh', 'Heh', 'Heh', 'Heh', 'Heh', 'Heh',\n",
              "       'Heh', 'Heh', 'Heh', 'Heh', 'Heh', 'Eairh', 'Heh', 'Heh', 'Neh',\n",
              "       'Neh', 'Neh', 'Neh', 'Neh', 'Neh', 'Neh', 'Neh', 'Neh', 'Neh',\n",
              "       'Neh', 'Neh', 'Neh', 'Neh', 'Neh', 'Neh', 'Neh', 'Neh', 'Neh',\n",
              "       'Neh', 'Neh', 'Neh', 'Neh', 'Neh', 'Neh', 'Neh', 'Neh', 'Neh',\n",
              "       'Neh', 'Neh', 'Neh', 'Neh', 'Neh', 'Neh', 'Neh', 'Neh', 'Neh',\n",
              "       'Neh', 'Heh', 'Neh', 'Neh', 'Neh', 'Neh', 'Neh', 'Neh', 'Neh',\n",
              "       'Neh', 'Neh', 'Neh', 'Neh', 'Neh', 'Owh', 'Neh', 'Neh', 'Neh',\n",
              "       'Neh', 'Neh', 'Neh', 'Neh', 'Neh', 'Neh', 'Neh', 'Neh', 'Neh',\n",
              "       'Neh', 'Neh', 'Neh', 'Neh', 'Neh', 'Neh', 'Neh', 'Owh', 'Owh',\n",
              "       'Owh', 'Owh', 'Owh', 'Owh', 'Owh', 'Owh', 'Owh', 'Owh', 'Owh',\n",
              "       'Owh', 'Owh', 'Owh', 'Owh', 'Owh', 'Owh', 'Owh', 'Owh', 'Owh',\n",
              "       'Owh', 'Owh', 'Owh', 'Owh', 'Owh', 'Owh', 'Owh', 'Owh', 'Owh',\n",
              "       'Owh', 'Owh', 'Owh', 'Owh', 'Owh', 'Owh', 'Owh', 'Owh', 'Owh',\n",
              "       'Owh', 'Owh', 'Owh', 'Owh', 'Owh', 'Owh', 'Owh', 'Owh', 'Owh',\n",
              "       'Owh', 'Owh', 'Owh', 'Owh', 'Owh', 'Owh', 'Owh', 'Owh', 'Owh',\n",
              "       'Owh', 'Owh', 'Owh', 'Owh', 'Owh', 'Owh', 'Owh', 'Owh', 'Owh',\n",
              "       'Owh', 'Owh', 'Owh', 'Owh', 'Owh'], dtype='<U5')"
            ]
          },
          "metadata": {},
          "execution_count": 11
        }
      ]
    },
    {
      "cell_type": "markdown",
      "source": [
        "## Data Augmentation"
      ],
      "metadata": {
        "id": "5jiYeGbQNgJU"
      }
    },
    {
      "cell_type": "code",
      "source": [
        "from sklearn.preprocessing import LabelEncoder\n",
        "from sklearn.preprocessing import StandardScaler"
      ],
      "metadata": {
        "id": "k6fF4kSoNfno"
      },
      "execution_count": null,
      "outputs": []
    },
    {
      "cell_type": "code",
      "source": [
        "# Encode labels\n",
        "label_encoder = LabelEncoder()\n",
        "y_encoded = label_encoder.fit_transform(labels_array)"
      ],
      "metadata": {
        "id": "2HC5limR65d8"
      },
      "execution_count": null,
      "outputs": []
    },
    {
      "cell_type": "code",
      "source": [
        "y_encoded"
      ],
      "metadata": {
        "colab": {
          "base_uri": "https://localhost:8080/"
        },
        "id": "R_raXYbeyKCk",
        "outputId": "a2f07279-3f3f-438b-a35d-3b739feef508"
      },
      "execution_count": null,
      "outputs": [
        {
          "output_type": "execute_result",
          "data": {
            "text/plain": [
              "array([1, 1, 1, 1, 1, 1, 1, 1, 1, 1, 1, 1, 1, 1, 1, 1, 1, 1, 1, 1, 1, 1,\n",
              "       1, 1, 1, 0, 0, 0, 0, 0, 0, 0, 0, 0, 0, 0, 0, 0, 0, 0, 0, 0, 0, 0,\n",
              "       0, 0, 0, 0, 0, 0, 0, 0, 0, 0, 0, 0, 1, 0, 0, 0, 0, 0, 0, 2, 2, 2,\n",
              "       2, 2, 2, 2, 2, 2, 2, 2, 2, 2, 2, 2, 2, 2, 2, 2, 2, 2, 2, 2, 2, 2,\n",
              "       2, 2, 2, 2, 2, 2, 2, 2, 2, 2, 2, 2, 2, 2, 2, 2, 2, 2, 2, 0, 2, 2,\n",
              "       3, 3, 3, 3, 3, 3, 3, 3, 3, 3, 3, 3, 3, 3, 3, 3, 3, 3, 3, 3, 3, 3,\n",
              "       3, 3, 3, 3, 3, 3, 3, 3, 3, 3, 3, 3, 3, 3, 3, 3, 2, 3, 3, 3, 3, 3,\n",
              "       3, 3, 3, 3, 3, 3, 3, 4, 3, 3, 3, 3, 3, 3, 3, 3, 3, 3, 3, 3, 3, 3,\n",
              "       3, 3, 3, 3, 3, 4, 4, 4, 4, 4, 4, 4, 4, 4, 4, 4, 4, 4, 4, 4, 4, 4,\n",
              "       4, 4, 4, 4, 4, 4, 4, 4, 4, 4, 4, 4, 4, 4, 4, 4, 4, 4, 4, 4, 4, 4,\n",
              "       4, 4, 4, 4, 4, 4, 4, 4, 4, 4, 4, 4, 4, 4, 4, 4, 4, 4, 4, 4, 4, 4,\n",
              "       4, 4, 4, 4, 4, 4, 4, 4, 4])"
            ]
          },
          "metadata": {},
          "execution_count": 14
        }
      ]
    },
    {
      "cell_type": "markdown",
      "source": [
        "#Model Creation"
      ],
      "metadata": {
        "id": "AOkNUFEaj4HF"
      }
    },
    {
      "cell_type": "code",
      "source": [
        "from sklearn.model_selection import StratifiedKFold\n",
        "from sklearn.metrics import accuracy_score, precision_score, recall_score, f1_score\n",
        "from sklearn.utils.class_weight import compute_class_weight\n",
        "from tensorflow.keras.models import Sequential\n",
        "from tensorflow.keras.layers import Input, Conv2D, MaxPooling2D, Flatten, Dense, Dropout, LSTM, TimeDistributed\n",
        "from tensorflow.keras.callbacks import EarlyStopping, ModelCheckpoint\n",
        "from tensorflow.keras.optimizers import Adam\n",
        "import tensorflow as tf"
      ],
      "metadata": {
        "id": "VRbUYYnRbocC"
      },
      "execution_count": null,
      "outputs": []
    },
    {
      "cell_type": "code",
      "source": [
        "# Define a function to create the model\n",
        "def create_base_model():\n",
        "    model = Sequential()\n",
        "    # Input layer\n",
        "    model.add(Input(shape=(2049, 94, 1)))\n",
        "    # First Convolutional Block\n",
        "    model.add(Conv2D(16, (3, 3), activation='relu'))\n",
        "    # First Max Pooling Layer\n",
        "    model.add(MaxPooling2D((2, 2)))\n",
        "    # Second Convolutional Layer\n",
        "    model.add(Conv2D(16, (3, 3), activation='relu'))\n",
        "    # Flattening Layer\n",
        "    model.add(Flatten())\n",
        "    # Fully Connected Layer\n",
        "    model.add(Dense(128, activation='relu'))\n",
        "    # Dropout Layer\n",
        "    model.add(Dropout(0.5))\n",
        "    # Output Layer\n",
        "    model.add(Dense(5, activation='softmax'))\n",
        "    # Compile the model\n",
        "    model.compile(optimizer='adam', loss='sparse_categorical_crossentropy', metrics=['accuracy'])\n",
        "    return model"
      ],
      "metadata": {
        "id": "N2Bpo0HV3nw3"
      },
      "execution_count": null,
      "outputs": []
    },
    {
      "cell_type": "markdown",
      "source": [
        "#Train and Evaluate Model"
      ],
      "metadata": {
        "id": "gqlYX5hckBXH"
      }
    },
    {
      "cell_type": "code",
      "source": [
        "# Define the number of folds for cross-validation\n",
        "n_folds = 5\n",
        "\n",
        "# Initialize StratifiedKFold with the desired number of folds\n",
        "skf = StratifiedKFold(n_splits=n_folds, shuffle=True, random_state=0)\n",
        "\n",
        "# Initialize lists to store evaluation scores\n",
        "cv_accuracy_scores_base_model = []\n",
        "cv_f1_scores_base_model = []\n",
        "class_precision_scores_base_model = {i: [] for i in range(5)}  # Assuming classes are 0-4\n",
        "class_recall_scores_base_model = {i: [] for i in range(5)}\n",
        "class_f1_scores_base_model = {i: [] for i in range(5)}\n",
        "\n",
        "# Iterate over each fold\n",
        "for train_index, test_index in skf.split(features_array, y_encoded):\n",
        "    X_train, X_test = features_array[train_index], features_array[test_index]\n",
        "    y_train, y_test = y_encoded[train_index], y_encoded[test_index]\n",
        "\n",
        "    # Create a new base model instance for each fold\n",
        "    base_model = create_base_model()\n",
        "\n",
        "    # Train the base model on the training data for this fold\n",
        "    base_model.fit(X_train, y_train, epochs=20, batch_size=32, verbose=0)\n",
        "\n",
        "    # Evaluate the base model on the testing data for this fold\n",
        "    y_pred = base_model.predict(X_test, batch_size=32, verbose=0)\n",
        "    y_pred_classes = np.argmax(y_pred, axis=1)\n",
        "\n",
        "    # Compute accuracy\n",
        "    accuracy = accuracy_score(y_test, y_pred_classes)\n",
        "    cv_accuracy_scores_base_model.append(accuracy)\n",
        "\n",
        "    # Compute precision, recall, and F1 score for each class\n",
        "    for cls in range(5):\n",
        "        precision = precision_score(y_test, y_pred_classes, labels=[cls], average=None, zero_division=0)\n",
        "        recall = recall_score(y_test, y_pred_classes, labels=[cls], average=None, zero_division=0)\n",
        "        f1 = f1_score(y_test, y_pred_classes, labels=[cls], average=None, zero_division=0)\n",
        "\n",
        "        class_precision_scores_base_model[cls].append(precision)\n",
        "        class_recall_scores_base_model[cls].append(recall)\n",
        "        class_f1_scores_base_model[cls].append(f1)\n",
        "\n",
        "    # Compute overall F1 score\n",
        "    f1 = f1_score(y_test, y_pred_classes, average='weighted')\n",
        "    cv_f1_scores_base_model.append(f1)"
      ],
      "metadata": {
        "id": "vvzLxl9uYIia",
        "colab": {
          "base_uri": "https://localhost:8080/"
        },
        "outputId": "caa28585-2e77-41ff-8962-4ef2fed9c338"
      },
      "execution_count": null,
      "outputs": [
        {
          "output_type": "stream",
          "name": "stderr",
          "text": [
            "WARNING:tensorflow:5 out of the last 9 calls to <function Model.make_predict_function.<locals>.predict_function at 0x7a488d45ea70> triggered tf.function retracing. Tracing is expensive and the excessive number of tracings could be due to (1) creating @tf.function repeatedly in a loop, (2) passing tensors with different shapes, (3) passing Python objects instead of tensors. For (1), please define your @tf.function outside of the loop. For (2), @tf.function has reduce_retracing=True option that can avoid unnecessary retracing. For (3), please refer to https://www.tensorflow.org/guide/function#controlling_retracing and https://www.tensorflow.org/api_docs/python/tf/function for  more details.\n"
          ]
        }
      ]
    },
    {
      "cell_type": "code",
      "source": [
        "# Calculate and print the average scores across all folds\n",
        "average_accuracy_score_base_model = np.mean(cv_accuracy_scores_base_model)\n",
        "average_f1_score_base_model = np.mean(cv_f1_scores_base_model)\n",
        "average_class_precision_scores_base_model = {cls: np.mean(scores) for cls, scores in class_precision_scores_base_model.items()}\n",
        "average_class_recall_scores_base_model = {cls: np.mean(scores) for cls, scores in class_recall_scores_base_model.items()}\n",
        "average_class_f1_scores_base_model = {cls: np.mean(scores) for cls, scores in class_f1_scores_base_model.items()}\n",
        "\n",
        "print(\"List of Cross-Validation Accuracy of base model:\", cv_accuracy_scores_base_model)\n",
        "print(\"List of Cross-Validation F1 Score of base model:\", cv_f1_scores_base_model)\n",
        "print()\n",
        "print(\"Average Cross-Validation Accuracy of base model:\", average_accuracy_score_base_model)\n",
        "print(\"Average Cross-Validation F1 Score of base model:\", average_f1_score_base_model)\n",
        "print()\n",
        "for cls in range(5):\n",
        "    print(f\"Class {cls} of base model Precision: {average_class_precision_scores_base_model[cls]}\")\n",
        "    print(f\"Class {cls} of base model Recall: {average_class_recall_scores_base_model[cls]}\")\n",
        "    print(f\"Class {cls} of base model F1 Score: {average_class_f1_scores_base_model[cls]}\")\n",
        "    print()"
      ],
      "metadata": {
        "colab": {
          "base_uri": "https://localhost:8080/"
        },
        "id": "nM1y_6tFzQMl",
        "outputId": "1b18a21a-d615-49aa-91b1-cb1c8c5604fd"
      },
      "execution_count": null,
      "outputs": [
        {
          "output_type": "stream",
          "name": "stdout",
          "text": [
            "List of Cross-Validation Accuracy of base model: [0.7058823529411765, 0.52, 0.4, 0.68, 0.64]\n",
            "List of Cross-Validation F1 Score of base model: [0.6767929166729766, 0.48467171717171725, 0.4219335866717748, 0.6507167832167834, 0.6148888888888888]\n",
            "\n",
            "Average Cross-Validation Accuracy of base model: 0.5891764705882354\n",
            "Average Cross-Validation F1 Score of base model: 0.5698007785244281\n",
            "\n",
            "Class 0 of base model Precision: 0.36389610389610394\n",
            "Class 0 of base model Recall: 0.23928571428571427\n",
            "Class 0 of base model F1 Score: 0.2742882848146006\n",
            "\n",
            "Class 1 of base model Precision: 0.27\n",
            "Class 1 of base model Recall: 0.22000000000000003\n",
            "Class 1 of base model F1 Score: 0.24242424242424243\n",
            "\n",
            "Class 2 of base model Precision: 0.7243956043956044\n",
            "Class 2 of base model Recall: 0.6177777777777778\n",
            "Class 2 of base model F1 Score: 0.6300532076619033\n",
            "\n",
            "Class 3 of base model Precision: 0.6489035087719298\n",
            "Class 3 of base model Recall: 0.6835164835164835\n",
            "Class 3 of base model F1 Score: 0.6536244115704386\n",
            "\n",
            "Class 4 of base model Precision: 0.6680555555555555\n",
            "Class 4 of base model Recall: 0.8028571428571428\n",
            "Class 4 of base model F1 Score: 0.7267156862745099\n",
            "\n"
          ]
        }
      ]
    },
    {
      "cell_type": "markdown",
      "source": [
        "## Experiment 1"
      ],
      "metadata": {
        "id": "hTdpo7SRdzk5"
      }
    },
    {
      "cell_type": "code",
      "source": [
        "# Define a function to create the model\n",
        "def create_model_ex1():\n",
        "    model = Sequential()\n",
        "    # Input layer\n",
        "    model.add(Input(shape=(2049, 94, 1)))\n",
        "    # First Convolutional Block\n",
        "    model.add(Conv2D(16, (3, 3), activation='relu'))\n",
        "    # First Max Pooling Layer\n",
        "    model.add(MaxPooling2D((2, 2)))\n",
        "    # Second Convolutional Layer\n",
        "    model.add(Conv2D(16, (3, 3), activation='relu'))\n",
        "    # Flattening Layer\n",
        "    model.add(Flatten())\n",
        "    # Fully Connected Layer\n",
        "    model.add(Dense(128, activation='relu'))\n",
        "    # Dropout Layer\n",
        "    model.add(Dropout(0.5))\n",
        "    # Output Layer\n",
        "    model.add(Dense(5, activation='softmax'))\n",
        "    # Compile the model\n",
        "    model.compile(optimizer='adam', loss='sparse_categorical_crossentropy', metrics=['accuracy'])\n",
        "    return model"
      ],
      "metadata": {
        "id": "PYywBwfPaRzJ"
      },
      "execution_count": null,
      "outputs": []
    },
    {
      "cell_type": "code",
      "source": [
        "# Define the number of folds for cross-validation\n",
        "n_folds = 5\n",
        "\n",
        "# Initialize StratifiedKFold with the desired number of folds\n",
        "skf = StratifiedKFold(n_splits=n_folds, shuffle=True, random_state=0)\n",
        "\n",
        "# Initialize lists to store evaluation scores\n",
        "cv_accuracy_scores_ex1 = []\n",
        "cv_f1_scores_ex1 = []\n",
        "class_precision_scores_ex1 = {i: [] for i in range(5)}  # Assuming classes are 0-4\n",
        "class_recall_scores_ex1 = {i: [] for i in range(5)}\n",
        "class_f1_scores_ex1 = {i: [] for i in range(5)}\n",
        "\n",
        "# Calculate class weights\n",
        "class_weights = compute_class_weight('balanced', classes=np.unique(y_encoded), y=y_encoded)\n",
        "class_weights = {i: class_weights[i] for i in range(len(class_weights))}\n",
        "\n",
        "# Iterate over each fold\n",
        "fold_number = 0\n",
        "for train_index, test_index in skf.split(features_array, y_encoded):\n",
        "    fold_number += 1\n",
        "    X_train, X_test = features_array[train_index], features_array[test_index]\n",
        "    y_train, y_test = y_encoded[train_index], y_encoded[test_index]\n",
        "\n",
        "    # Reshape data for CNN input\n",
        "    X_train = X_train.reshape(X_train.shape[0], X_train.shape[1], X_train.shape[2], 1)\n",
        "    X_test = X_test.reshape(X_test.shape[0], X_test.shape[1], X_test.shape[2], 1)\n",
        "\n",
        "    # Create a new model instance for each fold\n",
        "    model_ex1 = create_model_ex1()\n",
        "\n",
        "    # Define the callbacks\n",
        "    callbacks = [\n",
        "        EarlyStopping(monitor='val_loss', patience=5, restore_best_weights=True),\n",
        "        ModelCheckpoint(f'best_model_ex1_fold_{fold_number}.keras', monitor='val_loss', save_best_only=True)\n",
        "    ]\n",
        "\n",
        "    # Train the model on the training data for this fold\n",
        "    model_ex1.fit(X_train, y_train, epochs=20, batch_size=32, verbose=0, validation_split=0.2, class_weight=class_weights, callbacks=callbacks)\n",
        "\n",
        "    # Evaluate the model on the testing data for this fold\n",
        "    y_pred = model_ex1.predict(X_test, batch_size=32, verbose=0)\n",
        "    y_pred_classes = np.argmax(y_pred, axis=1)\n",
        "\n",
        "    # Compute accuracy\n",
        "    accuracy = accuracy_score(y_test, y_pred_classes)\n",
        "\n",
        "    # Compute precision, recall, and F1 score for each class\n",
        "    for cls in range(5):\n",
        "        precision = precision_score(y_test, y_pred_classes, labels=[cls], average=None, zero_division=0)\n",
        "        recall = recall_score(y_test, y_pred_classes, labels=[cls], average=None, zero_division=0)\n",
        "        f1 = f1_score(y_test, y_pred_classes, labels=[cls], average=None, zero_division=0)\n",
        "\n",
        "        class_precision_scores_ex1[cls].append(precision)\n",
        "        class_recall_scores_ex1[cls].append(recall)\n",
        "        class_f1_scores_ex1[cls].append(f1)\n",
        "\n",
        "    # Compute overall F1 score\n",
        "    f1 = f1_score(y_test, y_pred_classes, average='weighted')\n",
        "\n",
        "    # Append scores\n",
        "    cv_accuracy_scores_ex1.append(accuracy)\n",
        "    cv_f1_scores_ex1.append(f1)"
      ],
      "metadata": {
        "id": "Lin3reMqdvxk",
        "colab": {
          "base_uri": "https://localhost:8080/"
        },
        "outputId": "2f32f6c2-6eb2-4a4f-977a-63211563d4be"
      },
      "execution_count": null,
      "outputs": [
        {
          "output_type": "stream",
          "name": "stderr",
          "text": [
            "WARNING:tensorflow:6 out of the last 11 calls to <function Model.make_predict_function.<locals>.predict_function at 0x7a488daacee0> triggered tf.function retracing. Tracing is expensive and the excessive number of tracings could be due to (1) creating @tf.function repeatedly in a loop, (2) passing tensors with different shapes, (3) passing Python objects instead of tensors. For (1), please define your @tf.function outside of the loop. For (2), @tf.function has reduce_retracing=True option that can avoid unnecessary retracing. For (3), please refer to https://www.tensorflow.org/guide/function#controlling_retracing and https://www.tensorflow.org/api_docs/python/tf/function for  more details.\n"
          ]
        }
      ]
    },
    {
      "cell_type": "code",
      "source": [
        "# Calculate and print the average scores across all folds\n",
        "average_accuracy_score_ex1 = np.mean(cv_accuracy_scores_ex1)\n",
        "average_f1_score_ex1 = np.mean(cv_f1_scores_ex1)\n",
        "average_class_precision_scores_ex1 = {cls: np.mean(scores) for cls, scores in class_precision_scores_ex1.items()}\n",
        "average_class_recall_scores_ex1 = {cls: np.mean(scores) for cls, scores in class_recall_scores_ex1.items()}\n",
        "average_class_f1_scores_ex1 = {cls: np.mean(scores) for cls, scores in class_f1_scores_ex1.items()}\n",
        "\n",
        "print(\"List of Cross-Validation Accuracy of ex1 model:\", cv_accuracy_scores_ex1)\n",
        "print(\"List of Cross-Validation F1 Score of ex1 model:\", cv_f1_scores_ex1)\n",
        "print()\n",
        "print(\"Average Cross-Validation Accuracy of ex1 model:\", average_accuracy_score_ex1)\n",
        "print(\"Average Cross-Validation F1 Score of ex1 model:\", average_f1_score_ex1)\n",
        "print()\n",
        "for cls in range(5):\n",
        "    print(f\"Class {cls} of ex1 model Precision: {average_class_precision_scores_ex1[cls]}\")\n",
        "    print(f\"Class {cls} of ex1 model Recall: {average_class_recall_scores_ex1[cls]}\")\n",
        "    print(f\"Class {cls} of ex1 model F1 Score: {average_class_f1_scores_ex1[cls]}\")\n",
        "    print()"
      ],
      "metadata": {
        "colab": {
          "base_uri": "https://localhost:8080/"
        },
        "id": "k2SPC2DCzTCz",
        "outputId": "ef8477f4-e862-4101-80f2-30620d78ac06"
      },
      "execution_count": null,
      "outputs": [
        {
          "output_type": "stream",
          "name": "stdout",
          "text": [
            "List of Cross-Validation Accuracy of ex1 model: [0.49019607843137253, 0.5, 0.44, 0.56, 0.52]\n",
            "List of Cross-Validation F1 Score of ex1 model: [0.48750831710983517, 0.4806657669815565, 0.44002339181286554, 0.5470213903743315, 0.4822222222222222]\n",
            "\n",
            "Average Cross-Validation Accuracy of ex1 model: 0.5020392156862745\n",
            "Average Cross-Validation F1 Score of ex1 model: 0.48748821770016215\n",
            "\n",
            "Class 0 of ex1 model Precision: 0.28888888888888886\n",
            "Class 0 of ex1 model Recall: 0.3464285714285714\n",
            "Class 0 of ex1 model F1 Score: 0.30126050420168066\n",
            "\n",
            "Class 1 of ex1 model Precision: 0.22285714285714286\n",
            "Class 1 of ex1 model Recall: 0.2666666666666667\n",
            "Class 1 of ex1 model F1 Score: 0.2247740563530037\n",
            "\n",
            "Class 2 of ex1 model Precision: 0.6698989898989899\n",
            "Class 2 of ex1 model Recall: 0.7511111111111111\n",
            "Class 2 of ex1 model F1 Score: 0.7020350877192982\n",
            "\n",
            "Class 3 of ex1 model Precision: 0.5202874902874902\n",
            "Class 3 of ex1 model Recall: 0.6087912087912088\n",
            "Class 3 of ex1 model F1 Score: 0.5371030403288468\n",
            "\n",
            "Class 4 of ex1 model Precision: 0.7206349206349206\n",
            "Class 4 of ex1 model Recall: 0.40857142857142853\n",
            "Class 4 of ex1 model F1 Score: 0.49452380952380953\n",
            "\n"
          ]
        }
      ]
    },
    {
      "cell_type": "markdown",
      "source": [
        "## Experiment 2"
      ],
      "metadata": {
        "id": "5G0aICIh3K2E"
      }
    },
    {
      "cell_type": "code",
      "source": [
        "# Define a function to create the CNN-RNN model\n",
        "def create_model_ex2():\n",
        "    model = Sequential()\n",
        "    # Input layer\n",
        "    model.add(Input(shape=(2049, 94, 1)))\n",
        "    # Convolutional Block 1\n",
        "    model.add(Conv2D(16, (3, 3), activation='relu'))\n",
        "    model.add(MaxPooling2D((2, 2)))\n",
        "    # Convolutional Block 2\n",
        "    model.add(Conv2D(32, (3, 3), activation='relu'))\n",
        "    model.add(MaxPooling2D((2, 2)))\n",
        "    # Convolutional Block 3\n",
        "    model.add(Conv2D(32, (3, 3), activation='relu'))\n",
        "    model.add(MaxPooling2D((2, 2)))\n",
        "    model.add(Dropout(0.2))\n",
        "    # Flatten the output of the CNN\n",
        "    model.add(Flatten())\n",
        "    # Reshape to fit into RNN\n",
        "    model.add(tf.keras.layers.Reshape((-1, 32)))\n",
        "    # RNN Layer 1\n",
        "    model.add(LSTM(64, return_sequences=True))\n",
        "    # RNN Layer 2\n",
        "    model.add(LSTM(64))\n",
        "    # Fully Connected Layer\n",
        "    model.add(Dense(128, activation='relu'))\n",
        "    model.add(Dropout(0.2))\n",
        "    # Output Layer\n",
        "    model.add(Dense(5, activation='softmax'))\n",
        "    # Compile the model\n",
        "    model.compile(optimizer='adam', loss='sparse_categorical_crossentropy', metrics=['accuracy'])\n",
        "    return model"
      ],
      "metadata": {
        "id": "FyKBRY_6aWmg"
      },
      "execution_count": null,
      "outputs": []
    },
    {
      "cell_type": "code",
      "source": [
        "# Define the number of folds for cross-validation\n",
        "n_folds = 5\n",
        "\n",
        "# Initialize StratifiedKFold with the desired number of folds\n",
        "skf = StratifiedKFold(n_splits=n_folds, shuffle=True, random_state=0)\n",
        "\n",
        "# Initialize lists to store evaluation scores\n",
        "cv_accuracy_scores_ex2 = []\n",
        "cv_f1_scores_ex2 = []\n",
        "class_precision_scores_ex2 = {i: [] for i in range(5)}  # Assuming classes are 0-4\n",
        "class_recall_scores_ex2 = {i: [] for i in range(5)}\n",
        "class_f1_scores_ex2 = {i: [] for i in range(5)}\n",
        "\n",
        "# Iterate over each fold\n",
        "for train_index, test_index in skf.split(features_array, y_encoded):\n",
        "    X_train, X_test = features_array[train_index], features_array[test_index]\n",
        "    y_train, y_test = y_encoded[train_index], y_encoded[test_index]\n",
        "\n",
        "    # Create a new base model instance for each fold\n",
        "    model_ex2 = create_model_ex2()\n",
        "\n",
        "    # Train the base model on the training data for this fold\n",
        "    model_ex2.fit(X_train, y_train, epochs=20, batch_size=32, verbose=0)\n",
        "\n",
        "    # Evaluate the base model on the testing data for this fold\n",
        "    y_pred = model_ex2.predict(X_test, batch_size=32, verbose=0)\n",
        "    y_pred_classes = np.argmax(y_pred, axis=1)\n",
        "\n",
        "    # Compute accuracy\n",
        "    accuracy = accuracy_score(y_test, y_pred_classes)\n",
        "    cv_accuracy_scores_ex2.append(accuracy)\n",
        "\n",
        "    # Compute precision, recall, and F1 score for each class\n",
        "    for cls in range(5):\n",
        "        precision = precision_score(y_test, y_pred_classes, labels=[cls], average=None, zero_division=0)[0]\n",
        "        recall = recall_score(y_test, y_pred_classes, labels=[cls], average=None, zero_division=0)[0]\n",
        "        f1 = f1_score(y_test, y_pred_classes, labels=[cls], average=None, zero_division=0)[0]\n",
        "\n",
        "        class_precision_scores_ex2[cls].append(precision)\n",
        "        class_recall_scores_ex2[cls].append(recall)\n",
        "        class_f1_scores_ex2[cls].append(f1)\n",
        "\n",
        "    # Compute overall F1 score\n",
        "    f1 = f1_score(y_test, y_pred_classes, average='weighted')\n",
        "    cv_f1_scores_ex2.append(f1)"
      ],
      "metadata": {
        "id": "DDK81rmp3AgI"
      },
      "execution_count": null,
      "outputs": []
    },
    {
      "cell_type": "code",
      "source": [
        "# Calculate and print the average scores across all folds\n",
        "average_accuracy_score_ex2 = np.mean(cv_accuracy_scores_ex2)\n",
        "average_f1_score_ex2 = np.mean(cv_f1_scores_ex2)\n",
        "average_class_precision_scores_ex2 = {cls: np.mean(scores) for cls, scores in class_precision_scores_ex2.items()}\n",
        "average_class_recall_scores_ex2 = {cls: np.mean(scores) for cls, scores in class_recall_scores_ex2.items()}\n",
        "average_class_f1_scores_ex2 = {cls: np.mean(scores) for cls, scores in class_f1_scores_ex2.items()}\n",
        "\n",
        "print(\"List of Cross-Validation Accuracy of base model:\", cv_accuracy_scores_ex2)\n",
        "print(\"List of Cross-Validation F1 Score of base model:\", cv_f1_scores_ex2)\n",
        "print()\n",
        "print(\"Average Cross-Validation Accuracy of base model:\", average_accuracy_score_ex2)\n",
        "print(\"Average Cross-Validation F1 Score of base model:\", average_f1_score_ex2)\n",
        "print()\n",
        "for cls in range(5):\n",
        "    print(f\"Class {cls} of base model Precision: {average_class_precision_scores_ex2[cls]}\")\n",
        "    print(f\"Class {cls} of base model Recall: {average_class_recall_scores_ex2[cls]}\")\n",
        "    print(f\"Class {cls} of base model F1 Score: {average_class_f1_scores_ex2[cls]}\")\n",
        "    print()"
      ],
      "metadata": {
        "colab": {
          "base_uri": "https://localhost:8080/"
        },
        "id": "OyGP3iZa3El0",
        "outputId": "8021e1cf-7719-43ce-e26f-c997c106b93d"
      },
      "execution_count": null,
      "outputs": [
        {
          "output_type": "stream",
          "name": "stdout",
          "text": [
            "List of Cross-Validation Accuracy of base model: [0.43137254901960786, 0.4, 0.4, 0.32, 0.36]\n",
            "List of Cross-Validation F1 Score of base model: [0.3623476417594065, 0.34489868188077905, 0.37006410256410255, 0.19747593582887701, 0.21765182186234816]\n",
            "\n",
            "Average Cross-Validation Accuracy of base model: 0.38227450980392164\n",
            "Average Cross-Validation F1 Score of base model: 0.2984876367791026\n",
            "\n",
            "Class 0 of base model Precision: 0.42222222222222217\n",
            "Class 0 of base model Recall: 0.425\n",
            "Class 0 of base model F1 Score: 0.39768833849329205\n",
            "\n",
            "Class 1 of base model Precision: 0.0\n",
            "Class 1 of base model Recall: 0.0\n",
            "Class 1 of base model F1 Score: 0.0\n",
            "\n",
            "Class 2 of base model Precision: 0.27904761904761904\n",
            "Class 2 of base model Recall: 0.2511111111111111\n",
            "Class 2 of base model F1 Score: 0.24853846153846154\n",
            "\n",
            "Class 3 of base model Precision: 0.2630952380952381\n",
            "Class 3 of base model Recall: 0.42637362637362636\n",
            "Class 3 of base model F1 Score: 0.3189189189189189\n",
            "\n",
            "Class 4 of base model Precision: 0.3270278134360291\n",
            "Class 4 of base model Recall: 0.5542857142857143\n",
            "Class 4 of base model F1 Score: 0.3740620249315902\n",
            "\n"
          ]
        }
      ]
    }
  ]
}